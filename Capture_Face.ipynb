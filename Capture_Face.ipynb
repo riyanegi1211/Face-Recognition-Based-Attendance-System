{
 "cells": [
  {
   "cell_type": "code",
   "execution_count": 3,
   "id": "1d31f1d4",
   "metadata": {},
   "outputs": [],
   "source": [
    "# Capture Face Function for creating dataset\n",
    "\n",
    "def captureFace():\n",
    "    def submit():\n",
    "           Id=Id_var.get()\n",
    "           name=Name_var.get()\n",
    "           Name_var.set(\"\")\n",
    "           Id_var.set(\"\")\n",
    "           if(is_number(Id) and name.isalpha()):\n",
    "               cam = cv2.VideoCapture(0)\n",
    "               harcascadePath = \"E:/FRAS/haarcascade_frontalface_default.xml\"\n",
    "               detector = cv2.CascadeClassifier(harcascadePath)\n",
    "               sampleNum = 0\n",
    "               while(True):\n",
    "                   ret, img = cam.read()\n",
    "                   gray = cv2.cvtColor(img, cv2.COLOR_BGR2GRAY)\n",
    "                   faces = detector.detectMultiScale(gray, 1.3, 5, minSize=(30,30),flags = cv2.CASCADE_SCALE_IMAGE)\n",
    "                   for(x,y,w,h) in faces:\n",
    "                       cv2.rectangle(img, (x, y), (x+w, y+h), (10, 159, 255), 2)\n",
    "                       #incrementing sample number\n",
    "                       sampleNum = sampleNum+1\n",
    "                       #saving the captured face in the dataset folder TrainingImages\n",
    "                       cv2.imwrite(\"E:/FRAS/TrainingImages\" + os.sep +name + \".\"+Id + '.' +\n",
    "                                   str(sampleNum) + \".jpg\", gray[y:y+h, x:x+w])\n",
    "                       #display the frame\n",
    "                       cv2.imshow('frame', img)\n",
    "                   #wait for 100 miliseconds\n",
    "                   if cv2.waitKey(100) & 0xFF == ord('q'):\n",
    "                       break\n",
    "                   # break if the sample number is more than 100\n",
    "                   elif sampleNum > 100:\n",
    "                       break\n",
    "               loginframe.destroy()\n",
    "               cam.release()\n",
    "               cv2.destroyAllWindows()\n",
    "               #res = \"Images Saved for ID : \" + Id + \" Name : \" + name\n",
    "               header=[\"Id\", \"Name\"]\n",
    "               row = [Id, name]\n",
    "               if(os.path.isfile(\"E:/FRAS/StudentDetails/StudentDetails.csv\")):\n",
    "                   with open(\"E:/FRAS/StudentDetails/StudentDetails.csv\", 'a+') as csvFile:\n",
    "                       writer = csv.writer(csvFile)\n",
    "                       writer.writerow(j for j in row)\n",
    "                   csvFile.close()\n",
    "               else:\n",
    "                   with open(\"E:/FRAS/StudentDetails/StudentDetails.csv\", 'a+') as csvFile:\n",
    "                       writer = csv.writer(csvFile)\n",
    "                       writer.writerow(i for i in header)\n",
    "                       writer.writerow(j for j in row)\n",
    "                   csvFile.close()\n",
    "           else:\n",
    "               if(is_number(Id)):\n",
    "                   messagebox.showwarning(\"Warning\",\"Enter Alphabetical Name without white spaces or numbers!\",parent=Memberwindow)\n",
    "                   captureFace()\n",
    "               if(name.isalpha()):\n",
    "                   messagebox.showwarning(\"Warning\",\"Enter Numeric ID!\",parent=Memberwindow)\n",
    "                   captureFace()"
   ]
  },
  {
   "cell_type": "code",
   "execution_count": null,
   "id": "71fcbfae",
   "metadata": {},
   "outputs": [],
   "source": []
  }
 ],
 "metadata": {
  "kernelspec": {
   "display_name": "Python 3 (ipykernel)",
   "language": "python",
   "name": "python3"
  },
  "language_info": {
   "codemirror_mode": {
    "name": "ipython",
    "version": 3
   },
   "file_extension": ".py",
   "mimetype": "text/x-python",
   "name": "python",
   "nbconvert_exporter": "python",
   "pygments_lexer": "ipython3",
   "version": "3.9.7"
  }
 },
 "nbformat": 4,
 "nbformat_minor": 5
}
