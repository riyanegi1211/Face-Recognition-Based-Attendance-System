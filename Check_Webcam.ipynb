{
 "cells": [
  {
   "cell_type": "code",
   "execution_count": 1,
   "id": "05491811",
   "metadata": {},
   "outputs": [],
   "source": [
    "#Function to check Webcam\n",
    "\n",
    "def webcamCheck():\n",
    "    import cv2\n",
    "    # Load the Haar cascade classifier\n",
    "    face_cascade = cv2.CascadeClassifier('E:/FRAS/haarcascade_frontalface_default.xml')\n",
    "    # To capture video from webcam.\n",
    "    capture = cv2.VideoCapture(0)\n",
    "    while True:\n",
    "        # Read the frame\n",
    "        _, img = capture.read()\n",
    "        # Convert to grayscale\n",
    "        gray = cv2.cvtColor(img, cv2.COLOR_BGR2GRAY)\n",
    "        # Detect the faces\n",
    "        faces = face_cascade.detectMultiScale(gray, 1.3, 5, minSize=(30, 30),flags = cv2.CASCADE_SCALE_IMAGE)\n",
    "        # Draw the rectangle around each face\n",
    "        for (x, y, w, h) in faces:\n",
    "            cv2.rectangle(img, (x, y), (x + w, y + h), (10,159,255), 2)\n",
    "        cv2.imshow('Webcam Check', img)\n",
    "        # Stop if escape key is pressed\n",
    "        if cv2.waitKey(1) & 0xFF == ord('q'):\n",
    "            break\n",
    "    # Release the VideoCapture object\n",
    "    capture.release()\n",
    "    cv2.destroyAllWindows()"
   ]
  },
  {
   "cell_type": "code",
   "execution_count": null,
   "id": "172e80ac",
   "metadata": {},
   "outputs": [],
   "source": []
  }
 ],
 "metadata": {
  "kernelspec": {
   "display_name": "Python 3 (ipykernel)",
   "language": "python",
   "name": "python3"
  },
  "language_info": {
   "codemirror_mode": {
    "name": "ipython",
    "version": 3
   },
   "file_extension": ".py",
   "mimetype": "text/x-python",
   "name": "python",
   "nbconvert_exporter": "python",
   "pygments_lexer": "ipython3",
   "version": "3.9.7"
  }
 },
 "nbformat": 4,
 "nbformat_minor": 5
}
