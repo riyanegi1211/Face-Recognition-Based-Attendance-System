{
 "cells": [
  {
   "cell_type": "code",
   "execution_count": 1,
   "id": "032f433b",
   "metadata": {},
   "outputs": [],
   "source": [
    "def mailsubmit():\n",
    "            recipient=recEntry.get()\n",
    "            date = datetime.date.today().strftime(\"%B %d, %Y\")\n",
    "            path = 'E:/FRAS/Attendance'\n",
    "            os.chdir(path)\n",
    "            files = sorted(os.listdir(os.getcwd()), key=os.path.getmtime)\n",
    "            newest = files[-1]\n",
    "            filename = newest\n",
    "            sub = \"Attendance Report for \" + str(date)\n",
    "            yag = yagmail.SMTP(unm, psw)\n",
    "            yag.send(\n",
    "                to=recipient, #recipient email ID\n",
    "                subject=sub, # email subject\n",
    "                contents=\"Attendance Details of the Company\",  # email body\n",
    "                attachments= filename  # file attached\n",
    "            )\n",
    "            messagebox.showinfo(\"Email Sent\", \"Email Successfully Sent!\",parent=mailwindow)"
   ]
  },
  {
   "cell_type": "code",
   "execution_count": null,
   "id": "ded769c6",
   "metadata": {},
   "outputs": [],
   "source": []
  }
 ],
 "metadata": {
  "kernelspec": {
   "display_name": "Python 3 (ipykernel)",
   "language": "python",
   "name": "python3"
  },
  "language_info": {
   "codemirror_mode": {
    "name": "ipython",
    "version": 3
   },
   "file_extension": ".py",
   "mimetype": "text/x-python",
   "name": "python",
   "nbconvert_exporter": "python",
   "pygments_lexer": "ipython3",
   "version": "3.9.7"
  }
 },
 "nbformat": 4,
 "nbformat_minor": 5
}
